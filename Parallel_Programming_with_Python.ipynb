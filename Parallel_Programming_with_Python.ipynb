{
  "nbformat": 4,
  "nbformat_minor": 0,
  "metadata": {
    "colab": {
      "provenance": []
    },
    "kernelspec": {
      "name": "python3",
      "display_name": "Python 3"
    },
    "language_info": {
      "name": "python"
    }
  },
  "cells": [
    {
      "cell_type": "markdown",
      "source": [
        "#Source Code"
      ],
      "metadata": {
        "id": "U-vfyD33y0gT"
      }
    },
    {
      "cell_type": "markdown",
      "source": [
        "##Write a program in Pythonwhich solves the program without any parallelization."
      ],
      "metadata": {
        "id": "EppU5uF9RjcO"
      }
    },
    {
      "cell_type": "code",
      "source": [
        "import numpy as np\n",
        "\n",
        "class PiCalculator:\n",
        "    def __init__(self, N):\n",
        "        self.N = N  # Number of rectangles\n",
        "\n",
        "    def compute_pi(self):\n",
        "        delta_x = 1 / self.N  # Width of each small rectangle\n",
        "        total_area = 0  # Accumulator for the sum of areas of rectangles\n",
        "\n",
        "        # Loop to calculate area of each rectangle\n",
        "        for i in range(self.N):\n",
        "            x_i = i * delta_x  # x-coordinate at the left side of the rectangle\n",
        "            f_x = np.sqrt(1 - x_i**2)  # Height of the rectangle\n",
        "            total_area += delta_x * f_x  # Add area of the rectangle to total\n",
        "\n",
        "        # Multiply by 4 to get the area of the whole circle\n",
        "        pi_approximation = 4 * total_area\n",
        "        return pi_approximation\n",
        "\n",
        "# Example usage:\n",
        "calculator = PiCalculator(N=100000)\n",
        "pi_approx1 = calculator.compute_pi()\n",
        "print(f\"Approximation of π with N={calculator.N}: {pi_approx1}\")\n"
      ],
      "metadata": {
        "colab": {
          "base_uri": "https://localhost:8080/"
        },
        "id": "3H8Ghw5I3h50",
        "outputId": "a62ba0b9-261a-4c07-99cc-fc79db9b69b8"
      },
      "execution_count": 1,
      "outputs": [
        {
          "output_type": "stream",
          "name": "stdout",
          "text": [
            "Approximation of π with N=100000: 3.1416126164019564\n"
          ]
        }
      ]
    },
    {
      "cell_type": "markdown",
      "source": [
        "##Write a program in Python which usesparallel computing via multiprocessingto solve the problem."
      ],
      "metadata": {
        "id": "abIu-hhmRlJq"
      }
    },
    {
      "cell_type": "code",
      "source": [
        "import numpy as np\n",
        "from multiprocessing import Pool\n",
        "\n",
        "def rectangle_area(x):\n",
        "    \"\"\"Compute the area of a single rectangle for the given x value.\"\"\"\n",
        "    delta_x = 1 / N  # Width of each rectangle, defined globally\n",
        "    f_x = np.sqrt(1 - x**2)  # Height of the rectangle\n",
        "    return delta_x * f_x  # Area of the rectangle\n",
        "\n",
        "def compute_pi_multiprocessing(N, num_processes=None):\n",
        "    \"\"\"Compute pi using numerical integration with multiprocessing.\"\"\"\n",
        "    delta_x = 1 / N\n",
        "    x_values = [i * delta_x for i in range(N)]  # x-coordinates of the left side of each rectangle\n",
        "\n",
        "    with Pool(processes=num_processes) as pool:\n",
        "        areas = pool.map(rectangle_area, x_values)  # Parallel computation of rectangle areas\n",
        "\n",
        "    total_area = sum(areas)  # Summing up the areas calculated by different processes\n",
        "    return 4 * total_area  # Multiplying by 4 to get the approximation of pi for the entire circle\n",
        "\n",
        "# Example usage:\n",
        "N = 100000  # Number of rectangles\n",
        "num_processes = 4  # Number of processes to use (adjust based on your CPU)\n",
        "pi_approx2 = compute_pi_multiprocessing(N, num_processes)\n",
        "print(f\"Approximation of π with N={N} and multiprocessing: {pi_approx2}\")\n"
      ],
      "metadata": {
        "colab": {
          "base_uri": "https://localhost:8080/"
        },
        "id": "jS-lfWfVQqhA",
        "outputId": "d2cdbf0b-80be-42de-c424-bfb99b789adf"
      },
      "execution_count": 2,
      "outputs": [
        {
          "output_type": "stream",
          "name": "stdout",
          "text": [
            "Approximation of π with N=100000 and multiprocessing: 3.1416126164019564\n"
          ]
        }
      ]
    },
    {
      "cell_type": "markdown",
      "source": [
        "##Write a program in Python which uses distributed parallel computing via mi4pyto solve the problem."
      ],
      "metadata": {
        "id": "tVTjuTdFRmGb"
      }
    },
    {
      "cell_type": "code",
      "source": [
        "%pip install mpi4py"
      ],
      "metadata": {
        "colab": {
          "base_uri": "https://localhost:8080/"
        },
        "id": "EbRsqFsAQ2W5",
        "outputId": "514cce89-4587-43ef-8656-8c970b092844"
      },
      "execution_count": 3,
      "outputs": [
        {
          "output_type": "stream",
          "name": "stdout",
          "text": [
            "Requirement already satisfied: mpi4py in /usr/local/lib/python3.10/dist-packages (3.1.6)\n"
          ]
        }
      ]
    },
    {
      "cell_type": "code",
      "source": [
        "!sudo apt-get install -y python3-mpi4py"
      ],
      "metadata": {
        "colab": {
          "base_uri": "https://localhost:8080/"
        },
        "id": "k8JEmJ-MRKwZ",
        "outputId": "6fd10dc0-fce1-47a5-dc1a-fdb96a42eca2"
      },
      "execution_count": 4,
      "outputs": [
        {
          "output_type": "stream",
          "name": "stdout",
          "text": [
            "Reading package lists... Done\n",
            "Building dependency tree... Done\n",
            "Reading state information... Done\n",
            "python3-mpi4py is already the newest version (3.1.3-1build2).\n",
            "0 upgraded, 0 newly installed, 0 to remove and 45 not upgraded.\n"
          ]
        }
      ]
    },
    {
      "cell_type": "code",
      "source": [
        "!apt-get install -qq mpich\n",
        "!pip install mpi4py"
      ],
      "metadata": {
        "colab": {
          "base_uri": "https://localhost:8080/"
        },
        "id": "rSTPk_trRNTj",
        "outputId": "3a600e79-1618-4f86-bdd8-9e0412817a18"
      },
      "execution_count": 5,
      "outputs": [
        {
          "output_type": "stream",
          "name": "stdout",
          "text": [
            "Requirement already satisfied: mpi4py in /usr/local/lib/python3.10/dist-packages (3.1.6)\n"
          ]
        }
      ]
    },
    {
      "cell_type": "code",
      "source": [
        "from mpi4py import MPI\n",
        "import numpy as np\n",
        "\n",
        "def compute_pi_mpi(N):\n",
        "    comm = MPI.COMM_WORLD\n",
        "    rank = comm.Get_rank()  # Get the rank of the current process\n",
        "    size = comm.Get_size()  # Get the total number of processes\n",
        "\n",
        "    delta_x = 1.0 / N\n",
        "    local_n = N // size  # Divide the task equally among processes\n",
        "\n",
        "    # Calculate the interval of integration for each process\n",
        "    local_a = rank * local_n * delta_x\n",
        "    local_b = local_a + local_n * delta_x\n",
        "\n",
        "    local_sum = 0.0\n",
        "    for i in range(local_n):\n",
        "        x = local_a + (i + 0.5) * delta_x\n",
        "        local_sum += np.sqrt(1 - x**2) * delta_x\n",
        "\n",
        "    # Use MPI to collect all local integrals at the root process\n",
        "    total_sum = comm.reduce(local_sum, op=MPI.SUM, root=0)\n",
        "\n",
        "    if rank == 0:\n",
        "        pi_approx = 4 * total_sum\n",
        "        return pi_approx\n",
        "\n",
        "# Example usage\n",
        "if __name__ == \"__main__\":\n",
        "    N = 100000  # Number of rectangles\n",
        "    pi_approx3 = compute_pi_mpi(N)\n",
        "    if pi_approx3 is not None:\n",
        "        print(f\"Approximation of π with N={N} using MPI: {pi_approx3}\")\n"
      ],
      "metadata": {
        "colab": {
          "base_uri": "https://localhost:8080/"
        },
        "id": "QKD4Wae5Qu5W",
        "outputId": "5b031bed-102b-4cf1-dad9-7f0d77283a68"
      },
      "execution_count": 6,
      "outputs": [
        {
          "output_type": "stream",
          "name": "stdout",
          "text": [
            "Approximation of π with N=100000 using MPI: 3.1415926644818337\n"
          ]
        }
      ]
    },
    {
      "cell_type": "markdown",
      "source": [
        "#Profiling"
      ],
      "metadata": {
        "id": "cdgDliFMzWtS"
      }
    },
    {
      "cell_type": "markdown",
      "source": [
        "##Profiling Nonparallel"
      ],
      "metadata": {
        "id": "rbYhAEXmzlV6"
      }
    },
    {
      "cell_type": "code",
      "source": [
        "import numpy as np\n",
        "import cProfile\n",
        "\n",
        "class PiCalculator:\n",
        "    def __init__(self, N):\n",
        "        self.N = N  # Number of rectangles\n",
        "\n",
        "    def compute_pi(self):\n",
        "        delta_x = 1 / self.N  # Width of each small rectangle\n",
        "        total_area = 0  # Accumulator for the sum of areas of rectangles\n",
        "\n",
        "        # Loop to calculate area of each rectangle\n",
        "        for i in range(self.N):\n",
        "            x_i = i * delta_x  # x-coordinate at the left side of the rectangle\n",
        "            f_x = np.sqrt(1 - x_i**2)  # Height of the rectangle\n",
        "            total_area += delta_x * f_x  # Add area of the rectangle to total\n",
        "\n",
        "        # Multiply by 4 to get the area of the whole circle\n",
        "        pi_approximation = 4 * total_area\n",
        "        return pi_approximation\n",
        "\n",
        "def profile_compute_pi():\n",
        "    calculator = PiCalculator(N=100000)\n",
        "    return calculator.compute_pi()\n",
        "\n",
        "# Perform profiling\n",
        "cProfile.run('profile_compute_pi()')\n"
      ],
      "metadata": {
        "colab": {
          "base_uri": "https://localhost:8080/"
        },
        "id": "p5UYllou5cz-",
        "outputId": "bcdf4ba3-267e-4085-ecc4-9538dbb005a1"
      },
      "execution_count": 27,
      "outputs": [
        {
          "output_type": "stream",
          "name": "stdout",
          "text": [
            "         6 function calls in 0.276 seconds\n",
            "\n",
            "   Ordered by: standard name\n",
            "\n",
            "   ncalls  tottime  percall  cumtime  percall filename:lineno(function)\n",
            "        1    0.000    0.000    0.276    0.276 <ipython-input-27-4e0d15690064>:22(profile_compute_pi)\n",
            "        1    0.000    0.000    0.000    0.000 <ipython-input-27-4e0d15690064>:5(__init__)\n",
            "        1    0.276    0.276    0.276    0.276 <ipython-input-27-4e0d15690064>:8(compute_pi)\n",
            "        1    0.000    0.000    0.276    0.276 <string>:1(<module>)\n",
            "        1    0.000    0.000    0.276    0.276 {built-in method builtins.exec}\n",
            "        1    0.000    0.000    0.000    0.000 {method 'disable' of '_lsprof.Profiler' objects}\n",
            "\n",
            "\n"
          ]
        }
      ]
    },
    {
      "cell_type": "markdown",
      "source": [
        "##Profiling Multiprocessing"
      ],
      "metadata": {
        "id": "mvdwkaL9zrDt"
      }
    },
    {
      "cell_type": "code",
      "source": [
        "import numpy as np\n",
        "from multiprocessing import Pool\n",
        "import cProfile\n",
        "\n",
        "class PiCalculatorMultiprocessing:\n",
        "    def __init__(self, N, num_processes=None):\n",
        "        self.N = N\n",
        "        self.num_processes = num_processes\n",
        "        self.delta_x = 1 / N  # Define delta_x here to avoid global dependency\n",
        "\n",
        "    def rectangle_area(self, x):\n",
        "        \"\"\"Compute the area of a single rectangle for the given x value.\"\"\"\n",
        "        f_x = np.sqrt(1 - x**2)  # Height of the rectangle\n",
        "        return self.delta_x * f_x  # Area of the rectangle\n",
        "\n",
        "    def compute_pi(self):\n",
        "        \"\"\"Compute pi using numerical integration with multiprocessing.\"\"\"\n",
        "        x_values = [i * self.delta_x for i in range(self.N)]  # x-coordinates of the left side of each rectangle\n",
        "\n",
        "        with Pool(processes=self.num_processes) as pool:\n",
        "            areas = pool.map(self.rectangle_area, x_values)  # Parallel computation of rectangle areas\n",
        "\n",
        "        total_area = sum(areas)  # Summing up the areas calculated by different processes\n",
        "        return 4 * total_area  # Multiplying by 4 to get the approximation of pi for the entire circle\n",
        "\n",
        "    def profile_compute_pi(self):\n",
        "        \"\"\"Function to profile the compute_pi method.\"\"\"\n",
        "        cProfile.runctx('self.compute_pi()', globals(), locals())\n",
        "\n",
        "\n",
        "# Example usage:\n",
        "calculator = PiCalculatorMultiprocessing(N=100000, num_processes=4)\n",
        "pi_approx2 = calculator.compute_pi()\n",
        "print(f\"Approximation of π with N={calculator.N} and multiprocessing: {pi_approx2}\")\n",
        "# To profile the computation\n",
        "calculator.profile_compute_pi()\n"
      ],
      "metadata": {
        "colab": {
          "base_uri": "https://localhost:8080/"
        },
        "id": "kJB1BAvq7AsX",
        "outputId": "00886ae5-5a6e-46d6-a34d-7957a112165e"
      },
      "execution_count": 28,
      "outputs": [
        {
          "output_type": "stream",
          "name": "stdout",
          "text": [
            "Approximation of π with N=100000 and multiprocessing: 3.1416126164019564\n",
            "         1177 function calls in 0.615 seconds\n",
            "\n",
            "   Ordered by: standard name\n",
            "\n",
            "   ncalls  tottime  percall  cumtime  percall filename:lineno(function)\n",
            "       14    0.000    0.000    0.000    0.000 <frozen importlib._bootstrap>:404(parent)\n",
            "        1    0.000    0.000    0.613    0.613 <ipython-input-28-413c049606ea>:16(compute_pi)\n",
            "        1    0.014    0.014    0.014    0.014 <ipython-input-28-413c049606ea>:18(<listcomp>)\n",
            "        1    0.003    0.003    0.615    0.615 <string>:1(<module>)\n",
            "        4    0.000    0.000    0.000    0.000 __init__.py:219(_acquireLock)\n",
            "        4    0.000    0.000    0.000    0.000 __init__.py:228(_releaseLock)\n",
            "        4    0.000    0.000    0.000    0.000 _weakrefset.py:39(_remove)\n",
            "        7    0.000    0.000    0.000    0.000 _weakrefset.py:86(add)\n",
            "        6    0.000    0.000    0.000    0.000 connection.py:117(__init__)\n",
            "        6    0.000    0.000    0.000    0.000 connection.py:130(__del__)\n",
            "        3    0.000    0.000    0.000    0.000 connection.py:134(_check_closed)\n",
            "        3    0.000    0.000    0.000    0.000 connection.py:142(_check_writable)\n",
            "        3    0.000    0.000    0.000    0.000 connection.py:181(send_bytes)\n",
            "        6    0.000    0.000    0.000    0.000 connection.py:360(_close)\n",
            "        3    0.000    0.000    0.000    0.000 connection.py:365(_send)\n",
            "        3    0.000    0.000    0.000    0.000 connection.py:390(_send_bytes)\n",
            "        3    0.000    0.000    0.002    0.001 connection.py:516(Pipe)\n",
            "        3    0.000    0.000    0.003    0.001 context.py:110(SimpleQueue)\n",
            "        1    0.000    0.000    0.067    0.067 context.py:115(Pool)\n",
            "        9    0.000    0.000    0.000    0.000 context.py:187(get_context)\n",
            "        6    0.000    0.000    0.000    0.000 context.py:197(get_start_method)\n",
            "        1    0.000    0.000    0.000    0.000 context.py:237(get_context)\n",
            "        4    0.000    0.000    0.058    0.015 context.py:278(_Popen)\n",
            "        6    0.000    0.000    0.001    0.000 context.py:65(Lock)\n",
            "       16    0.000    0.000    0.013    0.001 iostream.py:195(schedule)\n",
            "        8    0.000    0.000    0.020    0.002 iostream.py:335(flush)\n",
            "       16    0.000    0.000    0.000    0.000 iostream.py:91(_event_pipe)\n",
            "        1    0.000    0.000    0.000    0.000 pool.py:157(__init__)\n",
            "        4    0.000    0.000    0.001    0.000 pool.py:179(Process)\n",
            "        1    0.000    0.000    0.066    0.066 pool.py:183(__init__)\n",
            "        1    0.000    0.000    0.000    0.000 pool.py:266(__del__)\n",
            "        1    0.000    0.000    0.000    0.000 pool.py:279(_get_sentinels)\n",
            "        1    0.000    0.000    0.060    0.060 pool.py:305(_repopulate_pool)\n",
            "        1    0.001    0.001    0.060    0.060 pool.py:314(_repopulate_pool_static)\n",
            "        1    0.000    0.000    0.003    0.003 pool.py:345(_setup_queues)\n",
            "        2    0.000    0.000    0.000    0.000 pool.py:351(_check_running)\n",
            "        1    0.000    0.000    0.506    0.506 pool.py:362(map)\n",
            "        1    0.000    0.000    0.001    0.001 pool.py:471(_map_async)\n",
            "        1    0.000    0.000    0.020    0.020 pool.py:654(terminate)\n",
            "        1    0.000    0.000    0.013    0.013 pool.py:671(_help_stuff_finish)\n",
            "        1    0.000    0.000    0.020    0.020 pool.py:680(_terminate_pool)\n",
            "        1    0.000    0.000    0.000    0.000 pool.py:734(__enter__)\n",
            "        1    0.000    0.000    0.020    0.020 pool.py:738(__exit__)\n",
            "        1    0.000    0.000    0.000    0.000 pool.py:747(__init__)\n",
            "        1    0.000    0.000    0.000    0.000 pool.py:756(ready)\n",
            "        1    0.000    0.000    0.505    0.505 pool.py:764(wait)\n",
            "        1    0.000    0.000    0.505    0.505 pool.py:767(get)\n",
            "        1    0.001    0.001    0.001    0.001 pool.py:796(__init__)\n",
            "        4    0.000    0.000    0.058    0.014 popen_fork.py:15(__init__)\n",
            "       16    0.000    0.000    0.006    0.000 popen_fork.py:24(poll)\n",
            "        2    0.000    0.000    0.006    0.003 popen_fork.py:36(wait)\n",
            "        2    0.000    0.000    0.000    0.000 popen_fork.py:46(_send_signal)\n",
            "        2    0.000    0.000    0.000    0.000 popen_fork.py:56(terminate)\n",
            "        4    0.001    0.000    0.037    0.009 popen_fork.py:62(_launch)\n",
            "        4    0.001    0.000    0.059    0.015 process.py:110(start)\n",
            "        2    0.000    0.000    0.000    0.000 process.py:128(terminate)\n",
            "        2    0.000    0.000    0.006    0.003 process.py:142(join)\n",
            "        4    0.000    0.000    0.000    0.000 process.py:153(is_alive)\n",
            "        8    0.000    0.000    0.000    0.000 process.py:189(name)\n",
            "        4    0.000    0.000    0.000    0.000 process.py:193(name)\n",
            "        4    0.000    0.000    0.000    0.000 process.py:205(daemon)\n",
            "        4    0.000    0.000    0.000    0.000 process.py:224(exitcode)\n",
            "        2    0.000    0.000    0.000    0.000 process.py:234(ident)\n",
            "        6    0.000    0.000    0.000    0.000 process.py:37(current_process)\n",
            "        4    0.000    0.000    0.000    0.000 process.py:61(_cleanup)\n",
            "        4    0.001    0.000    0.001    0.000 process.py:80(__init__)\n",
            "        8    0.000    0.000    0.000    0.000 process.py:94(<genexpr>)\n",
            "       18    0.000    0.000    0.000    0.000 process.py:99(_check_closed)\n",
            "        3    0.000    0.000    0.003    0.001 queues.py:339(__init__)\n",
            "        3    0.000    0.000    0.000    0.000 queues.py:369(put)\n",
            "        6    0.000    0.000    0.000    0.000 random.py:506(choices)\n",
            "        6    0.000    0.000    0.000    0.000 random.py:519(<listcomp>)\n",
            "        3    0.000    0.000    0.000    0.000 reduction.py:38(__init__)\n",
            "        3    0.000    0.000    0.000    0.000 reduction.py:48(dumps)\n",
            "       16    0.012    0.001    0.012    0.001 socket.py:543(send)\n",
            "        6    0.000    0.000    0.000    0.000 synchronize.py:114(_make_name)\n",
            "        6    0.000    0.000    0.001    0.000 synchronize.py:161(__init__)\n",
            "        6    0.000    0.000    0.001    0.000 synchronize.py:50(__init__)\n",
            "        6    0.000    0.000    0.000    0.000 synchronize.py:90(_make_methods)\n",
            "        3    0.000    0.000    0.000    0.000 synchronize.py:94(__enter__)\n",
            "        3    0.000    0.000    0.000    0.000 synchronize.py:97(__exit__)\n",
            "        6    0.000    0.000    0.000    0.000 tempfile.py:281(rng)\n",
            "        6    0.000    0.000    0.000    0.000 tempfile.py:292(__next__)\n",
            "        3    0.000    0.000    0.000    0.000 threading.py:1028(_stop)\n",
            "        3    0.000    0.000    0.000    0.000 threading.py:1064(join)\n",
            "       29    0.000    0.000    0.000    0.000 threading.py:1102(_wait_for_tstate_lock)\n",
            "       26    0.000    0.000    0.000    0.000 threading.py:1169(is_alive)\n",
            "        6    0.000    0.000    0.000    0.000 threading.py:1183(daemon)\n",
            "        3    0.000    0.000    0.000    0.000 threading.py:1198(daemon)\n",
            "        3    0.000    0.000    0.000    0.000 threading.py:1301(_make_invoke_excepthook)\n",
            "        9    0.000    0.000    0.000    0.000 threading.py:1430(current_thread)\n",
            "       12    0.000    0.000    0.000    0.000 threading.py:236(__init__)\n",
            "       12    0.000    0.000    0.000    0.000 threading.py:264(__enter__)\n",
            "       12    0.000    0.000    0.000    0.000 threading.py:267(__exit__)\n",
            "        9    0.000    0.000    0.000    0.000 threading.py:273(_release_save)\n",
            "        9    0.000    0.000    0.000    0.000 threading.py:276(_acquire_restore)\n",
            "        9    0.000    0.000    0.000    0.000 threading.py:279(_is_owned)\n",
            "        9    0.000    0.000    0.512    0.057 threading.py:288(wait)\n",
            "       12    0.000    0.000    0.001    0.000 threading.py:545(__init__)\n",
            "       36    0.000    0.000    0.000    0.000 threading.py:553(is_set)\n",
            "       12    0.000    0.000    0.512    0.043 threading.py:589(wait)\n",
            "        3    0.000    0.000    0.000    0.000 threading.py:782(_newname)\n",
            "        3    0.000    0.000    0.001    0.000 threading.py:827(__init__)\n",
            "        3    0.000    0.000    0.002    0.001 threading.py:916(start)\n",
            "        6    0.000    0.000    0.000    0.000 util.py:171(register_after_fork)\n",
            "        5    0.001    0.000    0.001    0.000 util.py:186(__init__)\n",
            "        5    0.000    0.000    0.020    0.004 util.py:205(__call__)\n",
            "        4    0.000    0.000    0.020    0.005 util.py:433(_flush_std_streams)\n",
            "        5    0.000    0.000    0.000    0.000 util.py:44(sub_debug)\n",
            "        4    0.000    0.000    0.000    0.000 util.py:461(close_fds)\n",
            "       21    0.000    0.000    0.000    0.000 util.py:48(debug)\n",
            "        6    0.000    0.000    0.000    0.000 weakref.py:106(remove)\n",
            "        6    0.000    0.000    0.000    0.000 weakref.py:165(__setitem__)\n",
            "        6    0.000    0.000    0.000    0.000 weakref.py:348(__new__)\n",
            "        6    0.000    0.000    0.000    0.000 weakref.py:353(__init__)\n",
            "        6    0.000    0.000    0.000    0.000 {built-in method __new__ of type object at 0x5bfea6a229a0}\n",
            "        8    0.000    0.000    0.000    0.000 {built-in method _imp.lock_held}\n",
            "        3    0.000    0.000    0.000    0.000 {built-in method _struct.pack}\n",
            "       21    0.000    0.000    0.000    0.000 {built-in method _thread.allocate_lock}\n",
            "        9    0.000    0.000    0.000    0.000 {built-in method _thread.get_ident}\n",
            "        3    0.000    0.000    0.000    0.000 {built-in method _thread.start_new_thread}\n",
            "        6    0.000    0.000    0.000    0.000 {built-in method _weakref._remove_dead_weakref}\n",
            "        1    0.000    0.000    0.000    0.000 {built-in method builtins.divmod}\n",
            "        1    0.000    0.000    0.615    0.615 {built-in method builtins.exec}\n",
            "        6    0.000    0.000    0.000    0.000 {built-in method builtins.getattr}\n",
            "        3    0.000    0.000    0.000    0.000 {built-in method builtins.hasattr}\n",
            "        6    0.000    0.000    0.000    0.000 {built-in method builtins.id}\n",
            "        5    0.000    0.000    0.000    0.000 {built-in method builtins.isinstance}\n",
            "       22    0.000    0.000    0.000    0.000 {built-in method builtins.len}\n",
            "       22    0.000    0.000    0.000    0.000 {built-in method builtins.next}\n",
            "        1    0.006    0.006    0.006    0.006 {built-in method builtins.sum}\n",
            "       48    0.000    0.000    0.000    0.000 {built-in method math.floor}\n",
            "       22    0.004    0.000    0.004    0.000 {built-in method posix.close}\n",
            "        4    0.031    0.008    0.032    0.008 {built-in method posix.fork}\n",
            "       30    0.000    0.000    0.000    0.000 {built-in method posix.getpid}\n",
            "        2    0.000    0.000    0.000    0.000 {built-in method posix.kill}\n",
            "       11    0.002    0.000    0.002    0.000 {built-in method posix.pipe}\n",
            "       14    0.006    0.000    0.006    0.000 {built-in method posix.waitpid}\n",
            "        4    0.000    0.000    0.000    0.000 {built-in method posix.waitstatus_to_exitcode}\n",
            "        3    0.000    0.000    0.000    0.000 {built-in method posix.write}\n",
            "        3    0.000    0.000    0.000    0.000 {method '__enter__' of '_multiprocessing.SemLock' objects}\n",
            "       12    0.000    0.000    0.000    0.000 {method '__enter__' of '_thread.lock' objects}\n",
            "        3    0.000    0.000    0.000    0.000 {method '__exit__' of '_multiprocessing.SemLock' objects}\n",
            "        3    0.000    0.000    0.000    0.000 {method '__exit__' of '_thread.RLock' objects}\n",
            "       12    0.000    0.000    0.000    0.000 {method '__exit__' of '_thread.lock' objects}\n",
            "        1    0.013    0.013    0.013    0.013 {method 'acquire' of '_multiprocessing.SemLock' objects}\n",
            "        4    0.000    0.000    0.000    0.000 {method 'acquire' of '_thread.RLock' objects}\n",
            "       63    0.512    0.008    0.512    0.008 {method 'acquire' of '_thread.lock' objects}\n",
            "       11    0.000    0.000    0.000    0.000 {method 'add' of 'set' objects}\n",
            "       25    0.000    0.000    0.000    0.000 {method 'append' of 'collections.deque' objects}\n",
            "        4    0.000    0.000    0.000    0.000 {method 'append' of 'list' objects}\n",
            "        7    0.000    0.000    0.000    0.000 {method 'copy' of 'dict' objects}\n",
            "        1    0.000    0.000    0.000    0.000 {method 'disable' of '_lsprof.Profiler' objects}\n",
            "        8    0.000    0.000    0.000    0.000 {method 'discard' of 'set' objects}\n",
            "        3    0.000    0.000    0.000    0.000 {method 'dump' of '_pickle.Pickler' objects}\n",
            "        4    0.000    0.000    0.000    0.000 {method 'get' of 'dict' objects}\n",
            "        3    0.000    0.000    0.000    0.000 {method 'getbuffer' of '_io.BytesIO' objects}\n",
            "       10    0.000    0.000    0.000    0.000 {method 'join' of 'str' objects}\n",
            "        3    0.000    0.000    0.000    0.000 {method 'locked' of '_thread.lock' objects}\n",
            "        1    0.000    0.000    0.000    0.000 {method 'put' of '_queue.SimpleQueue' objects}\n",
            "       48    0.000    0.000    0.000    0.000 {method 'random' of '_random.Random' objects}\n",
            "        4    0.000    0.000    0.000    0.000 {method 'release' of '_thread.RLock' objects}\n",
            "       12    0.000    0.000    0.000    0.000 {method 'release' of '_thread.lock' objects}\n",
            "        4    0.000    0.000    0.000    0.000 {method 'replace' of 'str' objects}\n",
            "       14    0.000    0.000    0.000    0.000 {method 'rpartition' of 'str' objects}\n",
            "        3    0.000    0.000    0.000    0.000 {method 'update' of 'dict' objects}\n",
            "\n",
            "\n"
          ]
        }
      ]
    },
    {
      "cell_type": "markdown",
      "source": [
        "#Profiling mpi4py"
      ],
      "metadata": {
        "id": "xZc2uMW2zuVc"
      }
    },
    {
      "cell_type": "code",
      "source": [
        "from mpi4py import MPI\n",
        "import numpy as np\n",
        "import cProfile\n",
        "\n",
        "class PiCalculatorMPI:\n",
        "    def __init__(self, N):\n",
        "        self.N = N\n",
        "        self.comm = MPI.COMM_WORLD\n",
        "        self.rank = self.comm.Get_rank()\n",
        "        self.size = self.comm.Get_size()\n",
        "        self.delta_x = 1.0 / N\n",
        "\n",
        "    def compute_pi(self):\n",
        "        local_n = self.N // self.size  # Divide the task equally among processes\n",
        "\n",
        "        # Calculate the interval of integration for each process\n",
        "        local_a = self.rank * local_n * self.delta_x\n",
        "        local_b = local_a + local_n * self.delta_x\n",
        "\n",
        "        local_sum = 0.0\n",
        "        for i in range(local_n):\n",
        "            x = local_a + (i + 0.5) * self.delta_x\n",
        "            local_sum += np.sqrt(1 - x**2) * self.delta_x\n",
        "\n",
        "        # Use MPI to collect all local integrals at the root process\n",
        "        total_sum = self.comm.reduce(local_sum, op=MPI.SUM, root=0)\n",
        "\n",
        "        if self.rank == 0:\n",
        "            pi_appro3x = 4 * total_sum\n",
        "            return pi_approx3\n",
        "\n",
        "    def profile_compute_pi(self):\n",
        "        \"\"\"Function to profile the compute_pi method using cProfile.\"\"\"\n",
        "        cProfile.runctx('self.compute_pi()', globals(), locals())\n",
        "\n",
        "# Example usage\n",
        "if __name__ == \"__main__\":\n",
        "    calculator = PiCalculatorMPI(N=100000)\n",
        "    if calculator.rank == 0:\n",
        "        pi_approx3 = calculator.compute_pi()\n",
        "        if pi_approx3 is not None:\n",
        "            print(f\"Approximation of π with N={calculator.N} using MPI: {pi_approx3}\")\n",
        "\n",
        "        # To profile the computation only from the root process\n",
        "        calculator.profile_compute_pi()\n"
      ],
      "metadata": {
        "colab": {
          "base_uri": "https://localhost:8080/"
        },
        "id": "Vg2DW-tu7pEn",
        "outputId": "00088ac7-9324-489e-d8df-c33c3c87b2ad"
      },
      "execution_count": 9,
      "outputs": [
        {
          "output_type": "stream",
          "name": "stdout",
          "text": [
            "Approximation of π with N=100000 using MPI: 3.1415926644818337\n",
            "         6 function calls in 0.162 seconds\n",
            "\n",
            "   Ordered by: standard name\n",
            "\n",
            "   ncalls  tottime  percall  cumtime  percall filename:lineno(function)\n",
            "        1    0.162    0.162    0.162    0.162 <ipython-input-9-d0784e20fbe8>:13(compute_pi)\n",
            "        1    0.000    0.000    0.162    0.162 <string>:1(<module>)\n",
            "        1    0.000    0.000    0.000    0.000 __init__.py:144(_DType_reduce)\n",
            "        1    0.000    0.000    0.162    0.162 {built-in method builtins.exec}\n",
            "        1    0.000    0.000    0.000    0.000 {method 'disable' of '_lsprof.Profiler' objects}\n",
            "        1    0.000    0.000    0.000    0.000 {method 'reduce' of 'mpi4py.MPI.Comm' objects}\n",
            "\n",
            "\n"
          ]
        }
      ]
    },
    {
      "cell_type": "markdown",
      "source": [
        "#Result for the first code"
      ],
      "metadata": {
        "id": "dTsmG5-zsNgF"
      }
    },
    {
      "cell_type": "code",
      "source": [
        "pi_approx1"
      ],
      "metadata": {
        "colab": {
          "base_uri": "https://localhost:8080/"
        },
        "id": "5cEJDnsJQyxD",
        "outputId": "de9ace9c-2d8c-40b9-a098-5732ae080bf3"
      },
      "execution_count": 10,
      "outputs": [
        {
          "output_type": "execute_result",
          "data": {
            "text/plain": [
              "3.1416126164019564"
            ]
          },
          "metadata": {},
          "execution_count": 10
        }
      ]
    },
    {
      "cell_type": "markdown",
      "source": [
        "#Result for the Second code"
      ],
      "metadata": {
        "id": "OfbP8A6MsRba"
      }
    },
    {
      "cell_type": "code",
      "source": [
        "pi_approx2"
      ],
      "metadata": {
        "colab": {
          "base_uri": "https://localhost:8080/"
        },
        "id": "BE_5pJx4SPlb",
        "outputId": "af1b7372-9bbb-4029-9d42-6bdd79cd8154"
      },
      "execution_count": 11,
      "outputs": [
        {
          "output_type": "execute_result",
          "data": {
            "text/plain": [
              "3.1416126164019564"
            ]
          },
          "metadata": {},
          "execution_count": 11
        }
      ]
    },
    {
      "cell_type": "markdown",
      "source": [
        "#Result for the Thrid Code"
      ],
      "metadata": {
        "id": "6jcNw0LEsVRd"
      }
    },
    {
      "cell_type": "code",
      "source": [
        "pi_approx3"
      ],
      "metadata": {
        "colab": {
          "base_uri": "https://localhost:8080/"
        },
        "id": "lc0uel8KSSSz",
        "outputId": "1ef60d66-5a68-4233-91d8-39179e9b9822"
      },
      "execution_count": 12,
      "outputs": [
        {
          "output_type": "execute_result",
          "data": {
            "text/plain": [
              "3.1415926644818337"
            ]
          },
          "metadata": {},
          "execution_count": 12
        }
      ]
    }
  ]
}